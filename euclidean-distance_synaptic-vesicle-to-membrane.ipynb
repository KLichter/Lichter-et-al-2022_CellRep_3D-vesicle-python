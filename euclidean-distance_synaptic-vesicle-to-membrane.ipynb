{
 "cells": [
  {
   "cell_type": "code",
   "execution_count": 37,
   "id": "6b3c70ed",
   "metadata": {},
   "outputs": [],
   "source": [
    "## code authors: katharina lichter, philip kollmannsberger, university and university hospital of wuerzburg, 2022.\n",
    "\n",
    "## this code is used in the manuscript \"Ultrastructural analysis of wildtype and RIM1α knock-out active zones in a large cortical synapse\"\n",
    "## by k lichter, mm paul, m pauli, s schoch, p kollmannsberger, c stigloher, m heckmann, a-l sirén, 2022.\n",
    "\n",
    "## notebook for calculation of euclidean synaptic vesicle (SV) distances to the active zone (AZ) membrane.\n",
    "\n",
    "# please import relevant python packages via anaconda navigator or anaconda prompt.\n",
    "\n",
    "import numpy as np\n",
    "import scipy as sp\n",
    "import shapely.geometry as geom\n",
    "from scipy.spatial import distance\n",
    "\n",
    "####################################################################################\n",
    "\n",
    "## please import active zone (AZ) information which is extracted from individual IMOD models (https://bio3d.colorado.edu/imod/). \n",
    "# please note that coordinate data are provided in text files. in case of SV data, the SV radius represents a separate column.\n",
    "\n",
    "# step 1: load the coordinates.\n",
    "np.set_printoptions(threshold=np.inf);\n",
    "linepts = np.loadtxt(fname = 'az-test_area.txt', usecols = [1,2,3,4,5,6]);\n",
    "pts = np.loadtxt(fname = 'az-test_sv-pool.txt', usecols = [1,2,3,4,5,6,7]);\n",
    "\n",
    "# step 2: add the pixel size of the tomogram. this information can be found in your original tilt series.\n",
    "px_factor = 0.287\n",
    "\n",
    "## step 3: calculation of euclidean distances of the outer SV membrane to the presynaptic AZ membrane. \n",
    "# defintion of calculation loop.\n",
    "for z in np.unique(pts[:,5]):\n",
    "        z_value = np.array(z)\n",
    "        linepts_z = linepts[linepts[:,5]==z,:];\n",
    "    \n",
    "# definition of individual 3D SV centers and of corresponding presynaptic AZ membrane.    \n",
    "        if linepts_z.shape[0]>0:\n",
    "            line = geom.LineString(linepts_z[:,3:5])\n",
    "            pts_z = pts[pts[:,5]==z,:]\n",
    "            vesicle = geom.MultiPoint(pts_z[:,3:5])\n",
    "            for p in list(vesicle):\n",
    "                r = pts_z[:,6]\n",
    "# euclidean calculation for more than one 3D vesicle center with the same z coordinate.\n",
    "                if r.shape[0]>1:\n",
    "                    D1 = (line.distance(p) * px_factor) - r\n",
    "                    SVdistance = np.append(z_value, D1)\n",
    "                    print(SVdistance, file = open(\"az-test_sv-pool_dist_1.txt\", \"a\"))\n",
    "# euclidean calculation for 3D vesicle centers with unique z coordinate.\n",
    "                else:\n",
    "                    D2 = (line.distance(p) * px_factor) - r          \n",
    "                    SVdistance = np.append(z_value, D2)\n",
    "                    print(SVdistance, file = open(\"az-test_sv-pool_dist_2.txt\", \"a\"))"
   ]
  }
 ],
 "metadata": {
  "kernelspec": {
   "display_name": "Python 3 (ipykernel)",
   "language": "python",
   "name": "python3"
  },
  "language_info": {
   "codemirror_mode": {
    "name": "ipython",
    "version": 3
   },
   "file_extension": ".py",
   "mimetype": "text/x-python",
   "name": "python",
   "nbconvert_exporter": "python",
   "pygments_lexer": "ipython3",
   "version": "3.9.12"
  }
 },
 "nbformat": 4,
 "nbformat_minor": 5
}
