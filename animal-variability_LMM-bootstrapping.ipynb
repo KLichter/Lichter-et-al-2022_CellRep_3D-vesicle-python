{
 "cells": [
  {
   "cell_type": "markdown",
   "id": "464910e3",
   "metadata": {},
   "source": [
    "### Inter-animal variability of giant MFB AZ area measurements - Linear Mixed Model with Bootstrapping  \n",
    "\n",
    "code authors: katharina lichter, philip kollmannsberger, university and university hospital of wuerzburg, 2022.\n",
    "\n",
    "this code is used in the manuscript \"Ultrastructural analysis of wildtype and RIM1α knock-out active zones in a large cortical synapse\"\n",
    "by k lichter, mm paul, m pauli, s schoch, p kollmannsberger, c stigloher, m heckmann, a-l sirén, 2022.\n",
    "\n"
   ]
  },
  {
   "cell_type": "markdown",
   "id": "swiss-monte",
   "metadata": {},
   "source": [
    "Import all relevant packages and disable warnings:"
   ]
  },
  {
   "cell_type": "code",
   "execution_count": 3,
   "id": "south-parks",
   "metadata": {},
   "outputs": [],
   "source": [
    "import numpy as np\n",
    "import pandas as pd\n",
    "import seaborn as sns\n",
    "import os\n",
    "import matplotlib.pyplot as plt\n",
    "import statsmodels.api as sm\n",
    "import dabest\n",
    "import multiprocessing as mp\n",
    "import random\n",
    "\n",
    "import warnings\n",
    "warnings.simplefilter('ignore')"
   ]
  },
  {
   "cell_type": "markdown",
   "id": "entire-earthquake",
   "metadata": {},
   "source": [
    "Define a function to load data from Excel file:"
   ]
  },
  {
   "cell_type": "code",
   "execution_count": 2,
   "id": "instructional-saudi",
   "metadata": {},
   "outputs": [],
   "source": [
    "def load_dataset(directory):\n",
    "\n",
    "    curr_path = os.getcwd();\n",
    "    os.chdir(directory);\n",
    "    \n",
    "    alldata = pd.read_excel('lichter-et-al_az-area_animal-variability.xlsx', header=0, usecols='B:G')\n",
    "    \n",
    "    ko1 = pd.DataFrame.from_dict({'animal': 'KO_1', 'grp': 1, 'area': alldata['RIM1α-KO_1']})\n",
    "    ko2 = pd.DataFrame.from_dict({'animal': 'KO_2', 'grp': 1, 'area': alldata['RIM1α-KO_2']})\n",
    "    ko3 = pd.DataFrame.from_dict({'animal': 'KO_3', 'grp': 1, 'area': alldata['RIM1α-KO_3']})\n",
    "\n",
    "    wt1 = pd.DataFrame.from_dict({'animal': 'WT_1', 'grp': 0, 'area': alldata['RIM1α-WT_1']})\n",
    "    wt2 = pd.DataFrame.from_dict({'animal': 'WT_2', 'grp': 0, 'area': alldata['RIM1α-WT_2']})\n",
    "    wt3 = pd.DataFrame.from_dict({'animal': 'WT_3', 'grp': 0, 'area': alldata['RIM1α-WT_3']})\n",
    "    \n",
    "    ko = ko1.append(ko2.append(ko3))\n",
    "    wt = wt1.append(wt2.append(wt3))\n",
    "\n",
    "    data = ko.append(wt).dropna()\n",
    "    \n",
    "    # change index to line numbers\n",
    "    data.reset_index(inplace=True)\n",
    "    \n",
    "    os.chdir(curr_path);\n",
    "    \n",
    "    return data"
   ]
  },
  {
   "cell_type": "markdown",
   "id": "other-manhattan",
   "metadata": {},
   "source": [
    "Load dataset:"
   ]
  },
  {
   "cell_type": "code",
   "execution_count": 3,
   "id": "lucky-visit",
   "metadata": {},
   "outputs": [
    {
     "data": {
      "text/html": [
       "<div>\n",
       "<style scoped>\n",
       "    .dataframe tbody tr th:only-of-type {\n",
       "        vertical-align: middle;\n",
       "    }\n",
       "\n",
       "    .dataframe tbody tr th {\n",
       "        vertical-align: top;\n",
       "    }\n",
       "\n",
       "    .dataframe thead th {\n",
       "        text-align: right;\n",
       "    }\n",
       "</style>\n",
       "<table border=\"1\" class=\"dataframe\">\n",
       "  <thead>\n",
       "    <tr style=\"text-align: right;\">\n",
       "      <th></th>\n",
       "      <th>index</th>\n",
       "      <th>animal</th>\n",
       "      <th>grp</th>\n",
       "      <th>area</th>\n",
       "    </tr>\n",
       "  </thead>\n",
       "  <tbody>\n",
       "    <tr>\n",
       "      <th>0</th>\n",
       "      <td>0</td>\n",
       "      <td>KO_1</td>\n",
       "      <td>1</td>\n",
       "      <td>0.094337</td>\n",
       "    </tr>\n",
       "    <tr>\n",
       "      <th>1</th>\n",
       "      <td>1</td>\n",
       "      <td>KO_1</td>\n",
       "      <td>1</td>\n",
       "      <td>0.101795</td>\n",
       "    </tr>\n",
       "    <tr>\n",
       "      <th>2</th>\n",
       "      <td>2</td>\n",
       "      <td>KO_1</td>\n",
       "      <td>1</td>\n",
       "      <td>0.211067</td>\n",
       "    </tr>\n",
       "    <tr>\n",
       "      <th>3</th>\n",
       "      <td>3</td>\n",
       "      <td>KO_1</td>\n",
       "      <td>1</td>\n",
       "      <td>0.097947</td>\n",
       "    </tr>\n",
       "    <tr>\n",
       "      <th>4</th>\n",
       "      <td>4</td>\n",
       "      <td>KO_1</td>\n",
       "      <td>1</td>\n",
       "      <td>0.056090</td>\n",
       "    </tr>\n",
       "    <tr>\n",
       "      <th>...</th>\n",
       "      <td>...</td>\n",
       "      <td>...</td>\n",
       "      <td>...</td>\n",
       "      <td>...</td>\n",
       "    </tr>\n",
       "    <tr>\n",
       "      <th>57</th>\n",
       "      <td>5</td>\n",
       "      <td>WT_3</td>\n",
       "      <td>0</td>\n",
       "      <td>0.045195</td>\n",
       "    </tr>\n",
       "    <tr>\n",
       "      <th>58</th>\n",
       "      <td>6</td>\n",
       "      <td>WT_3</td>\n",
       "      <td>0</td>\n",
       "      <td>0.041756</td>\n",
       "    </tr>\n",
       "    <tr>\n",
       "      <th>59</th>\n",
       "      <td>7</td>\n",
       "      <td>WT_3</td>\n",
       "      <td>0</td>\n",
       "      <td>0.061615</td>\n",
       "    </tr>\n",
       "    <tr>\n",
       "      <th>60</th>\n",
       "      <td>8</td>\n",
       "      <td>WT_3</td>\n",
       "      <td>0</td>\n",
       "      <td>0.070826</td>\n",
       "    </tr>\n",
       "    <tr>\n",
       "      <th>61</th>\n",
       "      <td>9</td>\n",
       "      <td>WT_3</td>\n",
       "      <td>0</td>\n",
       "      <td>0.105931</td>\n",
       "    </tr>\n",
       "  </tbody>\n",
       "</table>\n",
       "<p>62 rows × 4 columns</p>\n",
       "</div>"
      ],
      "text/plain": [
       "    index animal  grp      area\n",
       "0       0   KO_1    1  0.094337\n",
       "1       1   KO_1    1  0.101795\n",
       "2       2   KO_1    1  0.211067\n",
       "3       3   KO_1    1  0.097947\n",
       "4       4   KO_1    1  0.056090\n",
       "..    ...    ...  ...       ...\n",
       "57      5   WT_3    0  0.045195\n",
       "58      6   WT_3    0  0.041756\n",
       "59      7   WT_3    0  0.061615\n",
       "60      8   WT_3    0  0.070826\n",
       "61      9   WT_3    0  0.105931\n",
       "\n",
       "[62 rows x 4 columns]"
      ]
     },
     "execution_count": 3,
     "metadata": {},
     "output_type": "execute_result"
    }
   ],
   "source": [
    "df = load_dataset('.')\n",
    "df"
   ]
  },
  {
   "cell_type": "markdown",
   "id": "sixth-nursery",
   "metadata": {},
   "source": [
    "----\n",
    "## 2) Estimation statistics for n = animal\n",
    "Consider animal as n and perform estimation statistics on the medians of the animals. This approach is underpowered and likely underestimates the effect, because pooling the results of individual animals before applying statistical tests discards much of the information in the data. In addition, the different animals contain different numbers of AZs, and pooling their means or medians might not lead to reliable statistical estimates."
   ]
  },
  {
   "cell_type": "code",
   "execution_count": 19,
   "id": "opponent-choir",
   "metadata": {},
   "outputs": [
    {
     "data": {
      "image/png": "[encoded data removed]",
      "text/plain": [
       "<Figure size 500x400 with 2 Axes>"
      ]
     },
     "metadata": {
      "needs_background": "light"
     },
     "output_type": "display_data"
    }
   ],
   "source": [
    "data = df.groupby(\"animal\").median();\n",
    "data = data.astype({'grp': 'string'})\n",
    "\n",
    "dabest_area = dabest.load(data=data, x=\"grp\", y=\"area\", idx=(\"0.0\",\"1.0\"))\n",
    "\n",
    "dabest_area.mean_diff.plot(swarm_ylim=(0.04, 0.12));"
   ]
  },
  {
   "cell_type": "markdown",
   "id": "complete-corporation",
   "metadata": {},
   "source": [
    "---\n",
    "## 3) Linear Mixed Model\n",
    "In the second step, we fit a linear mixed model to the data, treating deficiency of RIM1a (RIM1a-KO) as fixed effect and the differences between animals as random effect. This approach both corrects for inter-animal variability and avoids the problem of pooling by using all data points for fitting.\n",
    "\n",
    "First, select which parameter to fit:"
   ]
  },
  {
   "cell_type": "code",
   "execution_count": 5,
   "id": "tracked-original",
   "metadata": {},
   "outputs": [],
   "source": [
    "param = \"area\""
   ]
  },
  {
   "cell_type": "markdown",
   "id": "faced-musician",
   "metadata": {},
   "source": [
    "Fit a linear mixed model to the full dataset and show the summary:"
   ]
  },
  {
   "cell_type": "code",
   "execution_count": 6,
   "id": "nuclear-joyce",
   "metadata": {},
   "outputs": [
    {
     "data": {
      "text/html": [
       "<table class=\"simpletable\">\n",
       "<tr>\n",
       "       <td>Model:</td>       <td>MixedLM</td> <td>Dependent Variable:</td>  <td>area</td>  \n",
       "</tr>\n",
       "<tr>\n",
       "  <td>No. Observations:</td>   <td>62</td>          <td>Method:</td>        <td>REML</td>  \n",
       "</tr>\n",
       "<tr>\n",
       "     <td>No. Groups:</td>       <td>1</td>          <td>Scale:</td>        <td>0.0020</td> \n",
       "</tr>\n",
       "<tr>\n",
       "  <td>Min. group size:</td>    <td>62</td>      <td>Log-Likelihood:</td>   <td>97.4289</td>\n",
       "</tr>\n",
       "<tr>\n",
       "  <td>Max. group size:</td>    <td>62</td>        <td>Converged:</td>        <td>Yes</td>  \n",
       "</tr>\n",
       "<tr>\n",
       "  <td>Mean group size:</td>   <td>62.0</td>            <td></td>              <td></td>    \n",
       "</tr>\n",
       "</table>\n",
       "<table class=\"simpletable\">\n",
       "<tr>\n",
       "       <td></td>      <th>Coef.</th>  <th>Std.Err.</th>     <th>z</th>   <th>P>|z|</th> <th>[0.025</th> <th>0.975]</th>\n",
       "</tr>\n",
       "<tr>\n",
       "  <th>Intercept</th>  <td>0.077</td>    <td>0.046</td>    <td>1.684</td> <td>0.092</td> <td>-0.013</td>  <td>0.167</td>\n",
       "</tr>\n",
       "<tr>\n",
       "  <th>grp</th>        <td>0.036</td>    <td>0.011</td>    <td>3.127</td> <td>0.002</td>  <td>0.013</td>  <td>0.058</td>\n",
       "</tr>\n",
       "<tr>\n",
       "  <th>Group Var</th>  <td>0.002</td> <td>1387074.411</td>   <td></td>      <td></td>       <td></td>       <td></td>   \n",
       "</tr>\n",
       "<tr>\n",
       "  <th>animal Var</th> <td>0.000</td>      <td></td>         <td></td>      <td></td>       <td></td>       <td></td>   \n",
       "</tr>\n",
       "</table>"
      ],
      "text/plain": [
       "<class 'statsmodels.iolib.summary2.Summary'>\n",
       "\"\"\"\n",
       "        Mixed Linear Model Regression Results\n",
       "======================================================\n",
       "Model:             MixedLM Dependent Variable: area   \n",
       "No. Observations:  62      Method:             REML   \n",
       "No. Groups:        1       Scale:              0.0020 \n",
       "Min. group size:   62      Log-Likelihood:     97.4289\n",
       "Max. group size:   62      Converged:          Yes    \n",
       "Mean group size:   62.0                               \n",
       "------------------------------------------------------\n",
       "           Coef.   Std.Err.    z   P>|z| [0.025 0.975]\n",
       "------------------------------------------------------\n",
       "Intercept  0.077       0.046 1.684 0.092 -0.013  0.167\n",
       "grp        0.036       0.011 3.127 0.002  0.013  0.058\n",
       "Group Var  0.002 1387074.411                          \n",
       "animal Var 0.000                                      \n",
       "======================================================\n",
       "\n",
       "\"\"\""
      ]
     },
     "execution_count": 6,
     "metadata": {},
     "output_type": "execute_result"
    }
   ],
   "source": [
    "# variance component formula: animal variability as random effect\n",
    "vcf = []\n",
    "vcf = {\"animal\": \"0+C(animal)\"}\n",
    "oo = np.ones(df.shape[0])\n",
    "\n",
    "model = []\n",
    "model = sm.MixedLM.from_formula(f\"{param} ~ grp\", vc_formula=vcf, groups=oo, re_formula=\"1\", data=df).fit()\n",
    "model.summary()"
   ]
  },
  {
   "cell_type": "markdown",
   "id": "floral-greece",
   "metadata": {},
   "source": [
    "Look at the residuals:"
   ]
  },
  {
   "cell_type": "code",
   "execution_count": 7,
   "id": "spectacular-cardiff",
   "metadata": {},
   "outputs": [
    {
     "data": {
      "image/png": "[encoded data removed]",
      "text/plain": [
       "<Figure size 720x216 with 2 Axes>"
      ]
     },
     "metadata": {
      "needs_background": "light"
     },
     "output_type": "display_data"
    }
   ],
   "source": [
    "res = pd.DataFrame()\n",
    "res[\"predicted\"] = model.fittedvalues\n",
    "res[param] = df[param]\n",
    "\n",
    "f, ax = plt.subplots(nrows=1, ncols=2, figsize=(10, 3), gridspec_kw={'wspace': 0.5});\n",
    "\n",
    "sns.residplot(x = \"predicted\", y = param, data = res, lowess=True, ax=ax.flat[0]);\n",
    "sns.histplot(model.resid.values, ax=ax.flat[1]);"
   ]
  },
  {
   "cell_type": "markdown",
   "id": "hazardous-being",
   "metadata": {},
   "source": [
    "---\n",
    "## 4) Bootstrapping\n",
    "To determine confidence intervals of the model coefficients, use bootstrapping of resampled data (10000 repetitions), and derive p values from the confidence intervals of the estimate.\n",
    "\n",
    "First, define a function to perform k=100 bootstraps:"
   ]
  },
  {
   "cell_type": "code",
   "execution_count": 8,
   "id": "successful-death",
   "metadata": {},
   "outputs": [],
   "source": [
    "def get_bootstrap(f=f\"{param}~grp\", g=\"animal\", df=df, k=100):\n",
    "    r = np.zeros(k)\n",
    "    np.random.seed()\n",
    "    vcf = []\n",
    "    vcf = {\"animal\": \"0+animal\"}\n",
    "    oo = np.ones(df.shape[0])\n",
    "    for i in range(k):\n",
    "        model = []\n",
    "        s = df.groupby(g).sample(frac=1,replace=True);\n",
    "        s.reset_index(inplace=True);\n",
    "        model = sm.MixedLM.from_formula(f, groups=oo, vc_formula=vcf, re_formula=\"1\", data=s).fit()\n",
    "        r[i] = model.params.grp\n",
    "    return r"
   ]
  },
  {
   "cell_type": "markdown",
   "id": "fossil-attribute",
   "metadata": {},
   "source": [
    "Run 100 processes with 100 bootstraps each using all available cores:"
   ]
  },
  {
   "cell_type": "code",
   "execution_count": 9,
   "id": "7c8e749d",
   "metadata": {},
   "outputs": [],
   "source": [
    "samp = []\n",
    "pool = mp.Pool(mp.cpu_count())\n",
    "\n",
    "future_res = [pool.apply_async(get_bootstrap) for i in range(100)]\n",
    "                               \n",
    "res = [f.get() for f in future_res]\n",
    "pool.close()\n",
    "\n",
    "samp = np.array(res).flatten()"
   ]
  },
  {
   "cell_type": "markdown",
   "id": "allied-oregon",
   "metadata": {},
   "source": [
    "Show the results:"
   ]
  },
  {
   "cell_type": "code",
   "execution_count": 10,
   "id": "single-exhaust",
   "metadata": {},
   "outputs": [
    {
     "name": "stdout",
     "output_type": "stream",
     "text": [
      "Results for area:\n",
      "\n",
      "LMM: 0.036\n",
      "\n",
      "Bootstrap: 0.036\n",
      "(0.025) 0.015\n",
      "(0.975) 0.058\n",
      "\n",
      "p = 0.001\n"
     ]
    }
   ],
   "source": [
    "est = np.mean(samp)\n",
    "l = np.percentile(samp, 2.5)\n",
    "u = np.percentile(samp, 97.5)\n",
    "SE = (u-l)/(2*1.96)\n",
    "z = np.sign(est)*est/SE\n",
    "p = np.exp(-0.717*z-0.416*z*z)\n",
    "print(f'Results for {param}:\\n');\n",
    "print('LMM: {0:.3f}\\n\\nBootstrap: {1:.3f}\\n(0.025) {2:.3f}\\n(0.975) {3:.3f}\\n\\np = {4:.3f}'.format(model.params[1],est,l,u,p))"
   ]
  },
  {
   "cell_type": "markdown",
   "id": "armed-rocket",
   "metadata": {},
   "source": [
    "Histogram of all bootstrapped model coefficients:"
   ]
  },
  {
   "cell_type": "code",
   "execution_count": 11,
   "id": "genuine-spanking",
   "metadata": {},
   "outputs": [
    {
     "data": {
      "text/plain": [
       "<AxesSubplot:ylabel='Count'>"
      ]
     },
     "execution_count": 11,
     "metadata": {},
     "output_type": "execute_result"
    },
    {
     "data": {
      "image/png": "[encoded data removed]",
      "text/plain": [
       "<Figure size 432x288 with 1 Axes>"
      ]
     },
     "metadata": {
      "needs_background": "light"
     },
     "output_type": "display_data"
    }
   ],
   "source": [
    "sns.histplot(samp, bins=100)"
   ]
  },
  {
   "cell_type": "markdown",
   "id": "vocational-mixer",
   "metadata": {},
   "source": [
    "## 5) Random swapping of labels"
   ]
  },
  {
   "cell_type": "markdown",
   "id": "forbidden-swift",
   "metadata": {},
   "source": [
    "Assess the validity of the bootstrapping results by randomly swapping group labels between animals: define a new bootstrap function on the randomized labels. Random swapping is performed every 100 bootstraps; the resulting overall coefficient should be close to zero."
   ]
  },
  {
   "cell_type": "code",
   "execution_count": 12,
   "id": "following-opera",
   "metadata": {},
   "outputs": [],
   "source": [
    "def get_swap_bootstrap(f=f\"{param}~rgrp\", g=\"animal\", df=df, k=100):\n",
    "    r = np.zeros(k)\n",
    "    np.random.seed()\n",
    "    vcf = []\n",
    "    vcf = {\"animal\": \"0+animal\"}\n",
    "    oo = np.ones(df.shape[0])\n",
    "    \n",
    "    # get random permutation of labels\n",
    "    a = df.groupby(\"animal\").grp.max().values\n",
    "    np.random.shuffle(a)\n",
    "\n",
    "    # assign random labels to new column \"rgrp\":\n",
    "    for i,key in enumerate(df[\"animal\"].unique()):\n",
    "        df.loc[df[\"animal\"].str.contains(key),'rgrp'] = a[i]\n",
    "\n",
    "    for i in range(k):\n",
    "        model = []\n",
    "        s = df.groupby(g).sample(frac=1,replace=True);\n",
    "        s.reset_index(inplace=True);\n",
    "        model = sm.MixedLM.from_formula(f, groups=oo, vc_formula=vcf, re_formula=\"1\", data=s).fit()\n",
    "        r[i] = model.params.rgrp\n",
    "    return r"
   ]
  },
  {
   "cell_type": "markdown",
   "id": "accurate-reminder",
   "metadata": {},
   "source": [
    "Run 100 processes with 100 bootstraps each using all available cores:"
   ]
  },
  {
   "cell_type": "code",
   "execution_count": 13,
   "id": "union-compression",
   "metadata": {},
   "outputs": [],
   "source": [
    "rand_samp = []\n",
    "pool = mp.Pool(mp.cpu_count())\n",
    "future_res = [pool.apply_async(get_swap_bootstrap) for i in range(100)]\n",
    "res = [f.get() for f in future_res]\n",
    "pool.close()\n",
    "rand_samp = np.array(res).mean(axis=1)"
   ]
  },
  {
   "cell_type": "markdown",
   "id": "legitimate-hundred",
   "metadata": {},
   "source": [
    "Plot histogram of means of all randomized coefficients:"
   ]
  },
  {
   "cell_type": "code",
   "execution_count": 14,
   "id": "saving-soundtrack",
   "metadata": {},
   "outputs": [
    {
     "data": {
      "text/plain": [
       "-1.3407729084093827e-03"
      ]
     },
     "execution_count": 14,
     "metadata": {},
     "output_type": "execute_result"
    },
    {
     "data": {
      "image/png": "[encoded data removed]",
      "text/plain": [
       "<Figure size 432x288 with 1 Axes>"
      ]
     },
     "metadata": {
      "needs_background": "light"
     },
     "output_type": "display_data"
    }
   ],
   "source": [
    "rand_samp = np.array(res).mean(axis=1)\n",
    "\n",
    "sns.histplot(rand_samp, bins=20)\n",
    "np.mean(rand_samp)"
   ]
  },
  {
   "cell_type": "code",
   "execution_count": null,
   "id": "expected-ranking",
   "metadata": {},
   "outputs": [],
   "source": []
  }
 ],
 "metadata": {
  "kernelspec": {
   "display_name": "Python 3 (ipykernel)",
   "language": "python",
   "name": "python3"
  },
  "language_info": {
   "codemirror_mode": {
    "name": "ipython",
    "version": 3
   },
   "file_extension": ".py",
   "mimetype": "text/x-python",
   "name": "python",
   "nbconvert_exporter": "python",
   "pygments_lexer": "ipython3",
   "version": "3.9.12"
  }
 },
 "nbformat": 4,
 "nbformat_minor": 5
}
