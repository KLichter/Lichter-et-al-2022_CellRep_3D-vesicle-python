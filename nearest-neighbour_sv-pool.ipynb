{
 "cells": [
  {
   "cell_type": "code",
   "execution_count": 1,
   "id": "cd2635ac",
   "metadata": {},
   "outputs": [
    {
     "name": "stdout",
     "output_type": "stream",
     "text": [
      "\n"
     ]
    }
   ],
   "source": [
    "## code authors: katharina lichter, philip kollmannsberger, university and university hospital of wuerzburg, 2022.\n",
    "\n",
    "## this code is used in \"Ultrastructural analysis of wildtype and RIM1α knock-out active zones in a large cortical synapse\"\n",
    "## by k lichter, mm paul, m pauli, s schoch, p kollmannsberger, c stigloher, m heckmann, a-l sirén\n",
    "\n",
    "## notebook for calculation of nearest neighbour (NN) distances in the synaptic vesicle (SV) pool\n",
    "\n",
    "# please import relevant python packages via anaconda navigator or anaconda prompt.\n",
    "import numpy as np\n",
    "import math as math\n",
    "import scipy as sp\n",
    "from shapely.geometry import LineString, MultiPoint, Point\n",
    "from scipy.spatial import distance\n",
    "from sklearn import neighbors\n",
    "from sklearn.neighbors import NearestNeighbors\n",
    "\n",
    "##############################################################################\n",
    "\n",
    "## please import active zone (AZ) information which is extracted from individual IMOD models (https://bio3d.colorado.edu/imod/). \n",
    "# please note that coordinate data are provided in text files. in case of SV data, the SV radius represents a separate column.\n",
    "\n",
    "# step 1: load the coordinates.\n",
    "\n",
    "pts = np.loadtxt(fname = 'az-test_sv-pool.txt', usecols = [1,2,3,4,5,6,7]);\n",
    "linepts = np.loadtxt(fname = 'az-test_area.txt', usecols = [1,2,3,4,5,6]);\n",
    "\n",
    "# step 2: add the pixel size of the tomogram. this information can be found in your original tilt series.\n",
    "px_factor = 0.287\n",
    "\n",
    "## step 3: calculation of NN euclidean distances within the SV pool. \n",
    "# calculation of euclidean distances from each SV to all other SVs\n",
    "\n",
    "r = np.array(pts[:,6])\n",
    "repetitions = r.size\n",
    "\n",
    "rarray = np.reshape(r, (repetitions, 1))\n",
    "\n",
    "rmatrix1 = np.tile(rarray, repetitions)\n",
    "rmatrix2 = np.tile(r,(repetitions, 1))\n",
    "\n",
    "scale = np.tile(np.array(px_factor), (repetitions, repetitions))\n",
    "\n",
    "vesicle = MultiPoint(pts[:,3:6]);\n",
    "\n",
    "D = distance.squareform(distance.pdist(vesicle));\n",
    "\n",
    "rmatrix = np.add(rmatrix1, rmatrix2)\n",
    "nearest = np.multiply(np.subtract(D, rmatrix), scale)\n",
    "\n",
    "# individual distance matrices for each SV             \n",
    "dnearest = np.where(nearest<0, 0, nearest);\n",
    "(dnearest)\n",
    "\n",
    "# calculation of the 5 nearest neighbouring SVs (index, absolute distance)\n",
    "nn = NearestNeighbors(n_neighbors=6, metric='precomputed')\n",
    "nn.fit(dnearest)\n",
    "\n",
    "distances, indexes = nn.kneighbors(dnearest)\n",
    "\n",
    "np.set_printoptions(threshold=np.inf)\n",
    "\n",
    "knearest = nn.kneighbors(dnearest)\n",
    "\n",
    "with open(\"az-test_kn5_index.txt\", 'w') as f:\n",
    "    print(knearest, file=f)\n",
    "    \n",
    "print('')\n",
    "\n",
    "with open(\"az-test_kn5_dist.txt\", 'w') as f:\n",
    "    print(distances, file=f)"
   ]
  },
  {
   "cell_type": "code",
   "execution_count": null,
   "id": "0ee78686",
   "metadata": {},
   "outputs": [],
   "source": []
  }
 ],
 "metadata": {
  "kernelspec": {
   "display_name": "Python 3 (ipykernel)",
   "language": "python",
   "name": "python3"
  },
  "language_info": {
   "codemirror_mode": {
    "name": "ipython",
    "version": 3
   },
   "file_extension": ".py",
   "mimetype": "text/x-python",
   "name": "python",
   "nbconvert_exporter": "python",
   "pygments_lexer": "ipython3",
   "version": "3.9.12"
  }
 },
 "nbformat": 4,
 "nbformat_minor": 5
}
